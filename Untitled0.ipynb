{
  "nbformat": 4,
  "nbformat_minor": 0,
  "metadata": {
    "colab": {
      "provenance": [],
      "authorship_tag": "ABX9TyM1LW7abp8WSL2semD8BNjJ",
      "include_colab_link": true
    },
    "kernelspec": {
      "name": "python3",
      "display_name": "Python 3"
    },
    "language_info": {
      "name": "python"
    }
  },
  "cells": [
    {
      "cell_type": "markdown",
      "metadata": {
        "id": "view-in-github",
        "colab_type": "text"
      },
      "source": [
        "<a href=\"https://colab.research.google.com/github/HenryLe1998/CPSC_481_Final/blob/main/Untitled0.ipynb\" target=\"_parent\"><img src=\"https://colab.research.google.com/assets/colab-badge.svg\" alt=\"Open In Colab\"/></a>"
      ]
    },
    {
      "cell_type": "markdown",
      "source": [
        "Question 1:"
      ],
      "metadata": {
        "id": "0ONxON1SojnX"
      }
    },
    {
      "cell_type": "code",
      "execution_count": 3,
      "metadata": {
        "id": "g7T1kkKWyHtl",
        "colab": {
          "base_uri": "https://localhost:8080/"
        },
        "outputId": "0070355d-188d-4fbc-d8c1-5eace7c6700e"
      },
      "outputs": [
        {
          "output_type": "stream",
          "name": "stdout",
          "text": [
            "Path to Goal ('A', 6):\n",
            "From ('K', 6) to ('A', 6)\n",
            "Path: [('K', 6), ('K', 7), ('K', 8), ('K', 9), ('J', 9), ('I', 9), ('I', 8), ('I', 7), ('H', 7), ('G', 7), ('G', 8), ('G', 9), ('F', 9), ('F', 10), ('F', 11), ('E', 11), ('D', 11), ('C', 11), ('B', 11), ('A', 11), ('A', 10), ('A', 9), ('A', 8), ('A', 7), ('A', 6)] \n",
            "\n",
            "Path to Goal ('E', 3):\n",
            "From ('K', 6) to ('E', 3)\n",
            "Path: [('K', 6), ('K', 5), ('J', 5), ('I', 5), ('I', 4), ('I', 3), ('J', 3), ('K', 3), ('K', 2), ('K', 1), ('J', 1), ('I', 1), ('H', 1), ('G', 1), ('G', 2), ('G', 3), ('F', 3), ('E', 3)] \n",
            "\n"
          ]
        }
      ],
      "source": [
        "class Node:\n",
        "    def __init__(self, position, parent=None):\n",
        "        self.position = position\n",
        "        self.parent = parent\n",
        "        self.g = 0  # cost from start node to current node\n",
        "        self.h = 0  # heuristic (estimated cost from current node to goal)\n",
        "        self.f = 0  # total cost (g + h)\n",
        "\n",
        "# Function to convert numeric positions to letter-number format\n",
        "def position_to_letter_number(position):\n",
        "    letter = chr(ord('A') + position[0])  # Convert row index to letter\n",
        "    number = position[1] + 1  # Add 1 to column index\n",
        "    return (letter, number)\n",
        "\n",
        "# Heuristic function using Manhattan distance\n",
        "def heuristic(position, goal):\n",
        "    return abs(position[0] - goal[0]) + abs(position[1] - goal[1])\n",
        "\n",
        "# A* algorithm to find the path in the maze\n",
        "def a_star(maze, start, goals):\n",
        "    def get_neighbors(position):\n",
        "        neighbors = []\n",
        "        # Generate possible moves: up, right, down, left\n",
        "        for move in [(0, 1), (1, 0), (0, -1), (-1, 0)]:\n",
        "            new_pos = (position[0] + move[0], position[1] + move[1])\n",
        "            # Check if the move is within bounds and not blocked by a wall\n",
        "            if 0 <= new_pos[0] < len(maze) and 0 <= new_pos[1] < len(maze[0]) and maze[new_pos[0]][new_pos[1]] == 0:\n",
        "                neighbors.append(new_pos)\n",
        "        return neighbors\n",
        "\n",
        "    open_set = []  # nodes to be evaluated\n",
        "    closed_set = set()  # nodes already evaluated\n",
        "\n",
        "    start_node = Node(start)\n",
        "    goal_nodes = [Node(goal) for goal in goals]\n",
        "\n",
        "    open_set.append(start_node)\n",
        "\n",
        "    while open_set:\n",
        "        current_node = min(open_set, key=lambda x: x.f)  # select node with lowest total cost\n",
        "        open_set.remove(current_node)\n",
        "        closed_set.add(current_node.position)\n",
        "\n",
        "        if current_node.position in [goal.position for goal in goal_nodes]:\n",
        "            # goal reached, reconstruct and return path\n",
        "            path = []\n",
        "            while current_node:\n",
        "                path.append(position_to_letter_number(current_node.position))\n",
        "                current_node = current_node.parent\n",
        "            return path[::-1]\n",
        "\n",
        "        for neighbor in get_neighbors(current_node.position):\n",
        "            if neighbor in closed_set:\n",
        "                continue\n",
        "\n",
        "            g_score = current_node.g + 1\n",
        "            h_score = heuristic(neighbor, goal_nodes[0].position)  # Use heuristic for the first goal\n",
        "            f_score = g_score + h_score\n",
        "\n",
        "            if neighbor not in [node.position for node in open_set]:\n",
        "                open_set.append(Node(neighbor, current_node))\n",
        "            else:\n",
        "                neighbor_node = next(node for node in open_set if node.position == neighbor)\n",
        "                if g_score < neighbor_node.g:\n",
        "                    neighbor_node.g = g_score\n",
        "                    neighbor_node.parent = current_node\n",
        "                    neighbor_node.f = g_score + neighbor_node.h\n",
        "\n",
        "    return None  # no path found\n",
        "\n",
        "# Function to print the path in the desired format\n",
        "def print_path(path, goal):\n",
        "    print(f\"Path to Goal {goal}:\")\n",
        "    print(f\"From {position_to_letter_number(start)} to {goal}\")\n",
        "\n",
        "    print(\"Path:\", path, '\\n')\n",
        "\n",
        "# Given maze\n",
        "Given_Maze = [\n",
        "    [0, 0, 0, 1, 0, 0, 0, 0, 0, 0, 0],\n",
        "    [0, 1, 0, 0, 0, 1, 1, 1, 1, 1, 0],\n",
        "    [0, 1, 0, 1, 0, 1, 0, 0, 0, 1, 0],\n",
        "    [0, 1, 1, 1, 1, 1, 1, 1, 0, 0, 0],\n",
        "    [0, 1, 0, 1, 0, 0, 0, 1, 1, 1, 0],\n",
        "    [1, 1, 0, 1, 0, 1, 0, 1, 0, 0, 0],\n",
        "    [0, 0, 0, 1, 1, 1, 0, 0, 0, 1, 1],\n",
        "    [0, 1, 1, 1, 0, 1, 0, 1, 1, 1, 0],\n",
        "    [0, 1, 0, 0, 0, 1, 0, 0, 0, 1, 0],\n",
        "    [0, 1, 0, 1, 0, 1, 1, 1, 0, 1, 0],\n",
        "    [0, 0, 0, 1, 0, 0, 0, 0, 0, 0, 0]\n",
        "]\n",
        "\n",
        "# Goals\n",
        "goal_1 = (0, 5)\n",
        "goal_2 = (4, 2)\n",
        "\n",
        "# Starting point\n",
        "start = (10, 5)\n",
        "\n",
        "# Find paths\n",
        "path_to_goal_1 = a_star(Given_Maze, start, [goal_1])\n",
        "path_to_goal_2 = a_star(Given_Maze, start, [goal_2])\n",
        "\n",
        "# Print paths\n",
        "print_path(path_to_goal_1, \"('A', 6)\")\n",
        "print_path(path_to_goal_2, \"('E', 3)\")"
      ]
    },
    {
      "cell_type": "markdown",
      "source": [
        "Question 2:"
      ],
      "metadata": {
        "id": "w1HDXLLPproo"
      }
    },
    {
      "cell_type": "code",
      "source": [
        "import json\n",
        "from collections import deque\n",
        "\n",
        "class TicTacToeProblem:\n",
        "    def __init__(self):\n",
        "        self.adj_list = {}\n",
        "\n",
        "    def generate_states(self, starting_state='X'):\n",
        "        print(\"Generating\")\n",
        "        queue = deque([('---------', starting_state)])\n",
        "\n",
        "        while queue:\n",
        "            current, move = queue.popleft()\n",
        "\n",
        "            if self.__check_leaf_state(current):\n",
        "                self.adj_list[current] = set()\n",
        "                continue\n",
        "\n",
        "            if current not in self.adj_list:\n",
        "                self.adj_list[current] = set()\n",
        "            move_complement = 'X' if move == 'O' else 'O'\n",
        "\n",
        "            for i in range(len(current)):\n",
        "                if current[i] != '-':\n",
        "                    continue\n",
        "                new_node = current[:i] + move + current[i+1:]\n",
        "                self.adj_list[current].add(new_node)\n",
        "                queue.append((new_node, move_complement))\n",
        "\n",
        "        print(f\"Complete the process\\n- Generated {len(self.adj_list)} states\")\n",
        "\n",
        "    def __check_leaf_state(self, current: str):\n",
        "        win_indices = [\n",
        "            [0, 1, 2], [3, 4, 5], [6, 7, 8],\n",
        "            [0, 3, 6], [1, 4, 7], [2, 5, 8],\n",
        "            [0, 4, 8], [2, 4, 6]\n",
        "        ]\n",
        "\n",
        "        for position in win_indices:\n",
        "            if all(current[i] == 'O' for i in position) or all(current[i] == 'X' for i in position):\n",
        "                return True\n",
        "\n",
        "        if all(tile != '-' for tile in current):\n",
        "            return True\n",
        "        return False\n",
        "\n",
        "    def export_json(self, path=\"states.json\"):\n",
        "        data = {key: list(values) for key, values in self.adj_list.items()}\n",
        "        with open(path, \"w\") as json_file:\n",
        "            json.dump(data, json_file, indent=4)\n",
        "            print(f\"- Exported states to '{path}'.\")\n",
        "\n",
        "    def import_json(self, path=\"states.json\"):\n",
        "        with open(path, \"r\") as json_file:\n",
        "            data = json.load(json_file)\n",
        "\n",
        "        self.adj_list = {key: set(values) for key, values in data.items()}\n",
        "        print(f\"Imported states'{path}'\")\n",
        "\n",
        "\n",
        "# Instantiates the TicTacToeProblem class that contains the state space generation\n",
        "problem_2 = TicTacToeProblem()\n",
        "\n",
        "# Generates with X going first using BFS\n",
        "problem_2.generate_states('X')\n",
        "\n",
        "# Outputs as json file\n",
        "problem_2.export_json(\"game_states.json\")"
      ],
      "metadata": {
        "colab": {
          "base_uri": "https://localhost:8080/"
        },
        "id": "dolynD-41JAE",
        "outputId": "b8240907-1571-4157-c034-f3a2c9e26146"
      },
      "execution_count": 20,
      "outputs": [
        {
          "output_type": "stream",
          "name": "stdout",
          "text": [
            "Generating\n",
            "Complete the process\n",
            "- Generated 5478 states\n",
            "- Exported states to 'game_states.json'.\n"
          ]
        }
      ]
    },
    {
      "cell_type": "markdown",
      "source": [
        "Question 3:"
      ],
      "metadata": {
        "id": "y7DpsTJ542uL"
      }
    },
    {
      "cell_type": "code",
      "source": [
        "# Upgrade TensorFlow to the latest version\n",
        "!pip install --upgrade tensorflow\n",
        "\n",
        "# Import necessary libraries\n",
        "import tensorflow as tf\n",
        "from tensorflow.keras import layers, models\n",
        "from sklearn.model_selection import train_test_split"
      ],
      "metadata": {
        "colab": {
          "base_uri": "https://localhost:8080/"
        },
        "id": "gIKc3JJY45zE",
        "outputId": "bf442e66-a3ab-42ab-a250-2fa691f12085"
      },
      "execution_count": 1,
      "outputs": [
        {
          "output_type": "stream",
          "name": "stdout",
          "text": [
            "\u001b[33mWARNING: Ignoring invalid distribution -ensorflow (/usr/local/lib/python3.10/dist-packages)\u001b[0m\u001b[33m\n",
            "\u001b[0mRequirement already satisfied: tensorflow in /usr/local/lib/python3.10/dist-packages (2.15.0.post1)\n",
            "Requirement already satisfied: absl-py>=1.0.0 in /usr/local/lib/python3.10/dist-packages (from tensorflow) (1.4.0)\n",
            "Requirement already satisfied: astunparse>=1.6.0 in /usr/local/lib/python3.10/dist-packages (from tensorflow) (1.6.3)\n",
            "Requirement already satisfied: flatbuffers>=23.5.26 in /usr/local/lib/python3.10/dist-packages (from tensorflow) (23.5.26)\n",
            "Requirement already satisfied: gast!=0.5.0,!=0.5.1,!=0.5.2,>=0.2.1 in /usr/local/lib/python3.10/dist-packages (from tensorflow) (0.5.4)\n",
            "Requirement already satisfied: google-pasta>=0.1.1 in /usr/local/lib/python3.10/dist-packages (from tensorflow) (0.2.0)\n",
            "Requirement already satisfied: h5py>=2.9.0 in /usr/local/lib/python3.10/dist-packages (from tensorflow) (3.9.0)\n",
            "Requirement already satisfied: libclang>=13.0.0 in /usr/local/lib/python3.10/dist-packages (from tensorflow) (16.0.6)\n",
            "Requirement already satisfied: ml-dtypes~=0.2.0 in /usr/local/lib/python3.10/dist-packages (from tensorflow) (0.2.0)\n",
            "Requirement already satisfied: numpy<2.0.0,>=1.23.5 in /usr/local/lib/python3.10/dist-packages (from tensorflow) (1.23.5)\n",
            "Requirement already satisfied: opt-einsum>=2.3.2 in /usr/local/lib/python3.10/dist-packages (from tensorflow) (3.3.0)\n",
            "Requirement already satisfied: packaging in /usr/local/lib/python3.10/dist-packages (from tensorflow) (23.2)\n",
            "Requirement already satisfied: protobuf!=4.21.0,!=4.21.1,!=4.21.2,!=4.21.3,!=4.21.4,!=4.21.5,<5.0.0dev,>=3.20.3 in /usr/local/lib/python3.10/dist-packages (from tensorflow) (3.20.3)\n",
            "Requirement already satisfied: setuptools in /usr/local/lib/python3.10/dist-packages (from tensorflow) (67.7.2)\n",
            "Requirement already satisfied: six>=1.12.0 in /usr/local/lib/python3.10/dist-packages (from tensorflow) (1.16.0)\n",
            "Requirement already satisfied: termcolor>=1.1.0 in /usr/local/lib/python3.10/dist-packages (from tensorflow) (2.4.0)\n",
            "Requirement already satisfied: typing-extensions>=3.6.6 in /usr/local/lib/python3.10/dist-packages (from tensorflow) (4.5.0)\n",
            "Requirement already satisfied: wrapt<1.15,>=1.11.0 in /usr/local/lib/python3.10/dist-packages (from tensorflow) (1.14.1)\n",
            "Requirement already satisfied: tensorflow-io-gcs-filesystem>=0.23.1 in /usr/local/lib/python3.10/dist-packages (from tensorflow) (0.34.0)\n",
            "Requirement already satisfied: grpcio<2.0,>=1.24.3 in /usr/local/lib/python3.10/dist-packages (from tensorflow) (1.60.0)\n",
            "Requirement already satisfied: tensorboard<2.16,>=2.15 in /usr/local/lib/python3.10/dist-packages (from tensorflow) (2.15.1)\n",
            "Requirement already satisfied: tensorflow-estimator<2.16,>=2.15.0 in /usr/local/lib/python3.10/dist-packages (from tensorflow) (2.15.0)\n",
            "Requirement already satisfied: keras<2.16,>=2.15.0 in /usr/local/lib/python3.10/dist-packages (from tensorflow) (2.15.0)\n",
            "Requirement already satisfied: wheel<1.0,>=0.23.0 in /usr/local/lib/python3.10/dist-packages (from astunparse>=1.6.0->tensorflow) (0.42.0)\n",
            "Requirement already satisfied: google-auth<3,>=1.6.3 in /usr/local/lib/python3.10/dist-packages (from tensorboard<2.16,>=2.15->tensorflow) (2.17.3)\n",
            "Requirement already satisfied: google-auth-oauthlib<2,>=0.5 in /usr/local/lib/python3.10/dist-packages (from tensorboard<2.16,>=2.15->tensorflow) (1.2.0)\n",
            "Requirement already satisfied: markdown>=2.6.8 in /usr/local/lib/python3.10/dist-packages (from tensorboard<2.16,>=2.15->tensorflow) (3.5.1)\n",
            "Requirement already satisfied: requests<3,>=2.21.0 in /usr/local/lib/python3.10/dist-packages (from tensorboard<2.16,>=2.15->tensorflow) (2.31.0)\n",
            "Requirement already satisfied: tensorboard-data-server<0.8.0,>=0.7.0 in /usr/local/lib/python3.10/dist-packages (from tensorboard<2.16,>=2.15->tensorflow) (0.7.2)\n",
            "Requirement already satisfied: werkzeug>=1.0.1 in /usr/local/lib/python3.10/dist-packages (from tensorboard<2.16,>=2.15->tensorflow) (3.0.1)\n",
            "Requirement already satisfied: cachetools<6.0,>=2.0.0 in /usr/local/lib/python3.10/dist-packages (from google-auth<3,>=1.6.3->tensorboard<2.16,>=2.15->tensorflow) (5.3.2)\n",
            "Requirement already satisfied: pyasn1-modules>=0.2.1 in /usr/local/lib/python3.10/dist-packages (from google-auth<3,>=1.6.3->tensorboard<2.16,>=2.15->tensorflow) (0.3.0)\n",
            "Requirement already satisfied: rsa<5,>=3.1.4 in /usr/local/lib/python3.10/dist-packages (from google-auth<3,>=1.6.3->tensorboard<2.16,>=2.15->tensorflow) (4.9)\n",
            "Requirement already satisfied: requests-oauthlib>=0.7.0 in /usr/local/lib/python3.10/dist-packages (from google-auth-oauthlib<2,>=0.5->tensorboard<2.16,>=2.15->tensorflow) (1.3.1)\n",
            "Requirement already satisfied: charset-normalizer<4,>=2 in /usr/local/lib/python3.10/dist-packages (from requests<3,>=2.21.0->tensorboard<2.16,>=2.15->tensorflow) (3.3.2)\n",
            "Requirement already satisfied: idna<4,>=2.5 in /usr/local/lib/python3.10/dist-packages (from requests<3,>=2.21.0->tensorboard<2.16,>=2.15->tensorflow) (3.6)\n",
            "Requirement already satisfied: urllib3<3,>=1.21.1 in /usr/local/lib/python3.10/dist-packages (from requests<3,>=2.21.0->tensorboard<2.16,>=2.15->tensorflow) (2.0.7)\n",
            "Requirement already satisfied: certifi>=2017.4.17 in /usr/local/lib/python3.10/dist-packages (from requests<3,>=2.21.0->tensorboard<2.16,>=2.15->tensorflow) (2023.11.17)\n",
            "Requirement already satisfied: MarkupSafe>=2.1.1 in /usr/local/lib/python3.10/dist-packages (from werkzeug>=1.0.1->tensorboard<2.16,>=2.15->tensorflow) (2.1.3)\n",
            "Requirement already satisfied: pyasn1<0.6.0,>=0.4.6 in /usr/local/lib/python3.10/dist-packages (from pyasn1-modules>=0.2.1->google-auth<3,>=1.6.3->tensorboard<2.16,>=2.15->tensorflow) (0.5.1)\n",
            "Requirement already satisfied: oauthlib>=3.0.0 in /usr/local/lib/python3.10/dist-packages (from requests-oauthlib>=0.7.0->google-auth-oauthlib<2,>=0.5->tensorboard<2.16,>=2.15->tensorflow) (3.2.2)\n",
            "\u001b[33mWARNING: Ignoring invalid distribution -ensorflow (/usr/local/lib/python3.10/dist-packages)\u001b[0m\u001b[33m\n",
            "\u001b[0m"
          ]
        }
      ]
    },
    {
      "cell_type": "code",
      "source": [
        "import tensorflow as tf\n",
        "import numpy as np\n",
        "\n",
        "# Load MNIST dataset\n",
        "(x_train, y_train), (x_test, y_test) = tf.keras.datasets.mnist.load_data()\n",
        "\n",
        "# Normalize pixel values to be between 0 and 1\n",
        "x_train, x_test = x_train / 255.0, x_test / 255.0\n",
        "print(X_train.shape, X_test.shape, Y_train.shape, Y_test.shape)"
      ],
      "metadata": {
        "colab": {
          "base_uri": "https://localhost:8080/"
        },
        "id": "MX96oWka8_7Z",
        "outputId": "26eb296a-73b9-430e-9a0a-7e29edb62dd8"
      },
      "execution_count": 10,
      "outputs": [
        {
          "output_type": "stream",
          "name": "stdout",
          "text": [
            "(60000, 28, 28) (10000, 28, 28) (60000,) (10000,)\n"
          ]
        }
      ]
    },
    {
      "cell_type": "code",
      "source": [
        "model = models.Sequential([\n",
        "    layers.InputLayer(input_shape=(28, 28)),\n",
        "    layers.Flatten(),\n",
        "    layers.Dense(512, activation='relu'),\n",
        "    layers.Dense(256, activation='relu'),\n",
        "    layers.Dense(128, activation='relu'),\n",
        "    layers.Dense(64, activation='relu'),\n",
        "    layers.Dense(32, activation='relu'),\n",
        "    layers.Dropout(0.2),\n",
        "    layers.Dense(10)\n",
        "])\n",
        "\n",
        "# Compile the model\n",
        "model.compile(optimizer='adam',\n",
        "              loss=tf.keras.losses.SparseCategoricalCrossentropy(from_logits=True),\n",
        "              metrics=['accuracy'])\n",
        "model.summary()"
      ],
      "metadata": {
        "colab": {
          "base_uri": "https://localhost:8080/"
        },
        "id": "h637MK38-TCW",
        "outputId": "fc43787f-21cd-4bb4-be61-3fc869cd6f94"
      },
      "execution_count": 11,
      "outputs": [
        {
          "output_type": "stream",
          "name": "stdout",
          "text": [
            "Model: \"sequential_4\"\n",
            "_________________________________________________________________\n",
            " Layer (type)                Output Shape              Param #   \n",
            "=================================================================\n",
            " flatten_4 (Flatten)         (None, 784)               0         \n",
            "                                                                 \n",
            " dense_20 (Dense)            (None, 512)               401920    \n",
            "                                                                 \n",
            " dense_21 (Dense)            (None, 256)               131328    \n",
            "                                                                 \n",
            " dense_22 (Dense)            (None, 128)               32896     \n",
            "                                                                 \n",
            " dense_23 (Dense)            (None, 64)                8256      \n",
            "                                                                 \n",
            " dense_24 (Dense)            (None, 32)                2080      \n",
            "                                                                 \n",
            " dropout_4 (Dropout)         (None, 32)                0         \n",
            "                                                                 \n",
            " dense_25 (Dense)            (None, 10)                330       \n",
            "                                                                 \n",
            "=================================================================\n",
            "Total params: 576810 (2.20 MB)\n",
            "Trainable params: 576810 (2.20 MB)\n",
            "Non-trainable params: 0 (0.00 Byte)\n",
            "_________________________________________________________________\n"
          ]
        }
      ]
    },
    {
      "cell_type": "code",
      "source": [
        "# Train the model\n",
        "x_train, x_val, y_train, y_val = train_test_split(x_train, y_train, test_size=0.2, random_state=42)\n",
        "model.fit(x_train, y_train, epochs=10, validation_data=(x_val, y_val))"
      ],
      "metadata": {
        "colab": {
          "base_uri": "https://localhost:8080/"
        },
        "id": "nDbwaibxAbqy",
        "outputId": "4a88dfac-39fb-4fbd-9245-81b51892ed41"
      },
      "execution_count": 12,
      "outputs": [
        {
          "output_type": "stream",
          "name": "stdout",
          "text": [
            "Epoch 1/10\n",
            "1500/1500 [==============================] - 24s 13ms/step - loss: 0.3039 - accuracy: 0.9128 - val_loss: 0.1292 - val_accuracy: 0.9626\n",
            "Epoch 2/10\n",
            "1500/1500 [==============================] - 19s 13ms/step - loss: 0.1354 - accuracy: 0.9644 - val_loss: 0.1208 - val_accuracy: 0.9671\n",
            "Epoch 3/10\n",
            "1500/1500 [==============================] - 21s 14ms/step - loss: 0.0964 - accuracy: 0.9738 - val_loss: 0.1219 - val_accuracy: 0.9672\n",
            "Epoch 4/10\n",
            "1500/1500 [==============================] - 18s 12ms/step - loss: 0.0745 - accuracy: 0.9794 - val_loss: 0.1105 - val_accuracy: 0.9699\n",
            "Epoch 5/10\n",
            "1500/1500 [==============================] - 20s 13ms/step - loss: 0.0595 - accuracy: 0.9845 - val_loss: 0.1046 - val_accuracy: 0.9750\n",
            "Epoch 6/10\n",
            "1500/1500 [==============================] - 18s 12ms/step - loss: 0.0522 - accuracy: 0.9863 - val_loss: 0.1141 - val_accuracy: 0.9736\n",
            "Epoch 7/10\n",
            "1500/1500 [==============================] - 18s 12ms/step - loss: 0.0441 - accuracy: 0.9882 - val_loss: 0.1382 - val_accuracy: 0.9703\n",
            "Epoch 8/10\n",
            "1500/1500 [==============================] - 20s 13ms/step - loss: 0.0411 - accuracy: 0.9894 - val_loss: 0.0936 - val_accuracy: 0.9789\n",
            "Epoch 9/10\n",
            "1500/1500 [==============================] - 18s 12ms/step - loss: 0.0364 - accuracy: 0.9901 - val_loss: 0.1039 - val_accuracy: 0.9758\n",
            "Epoch 10/10\n",
            "1500/1500 [==============================] - 18s 12ms/step - loss: 0.0298 - accuracy: 0.9919 - val_loss: 0.1238 - val_accuracy: 0.9767\n"
          ]
        },
        {
          "output_type": "execute_result",
          "data": {
            "text/plain": [
              "<keras.src.callbacks.History at 0x7fd8834730d0>"
            ]
          },
          "metadata": {},
          "execution_count": 12
        }
      ]
    },
    {
      "cell_type": "code",
      "source": [
        "# Evaluate the model on the test set\n",
        "test_loss, test_acc = model.evaluate(x_test, y_test)\n",
        "\n",
        "# Print the test accuracy\n",
        "print(f'Test accuracy: {test_acc}')\n",
        "\n",
        "# Save the model if it achieves at least 85% accuracy\n",
        "if test_acc >= 0.85:\n",
        "    model.save('deeper_mnist_model.h5')"
      ],
      "metadata": {
        "colab": {
          "base_uri": "https://localhost:8080/"
        },
        "id": "rKirjxYFB9QE",
        "outputId": "242f63bd-72ff-4729-e5a9-222a82035d2b"
      },
      "execution_count": 13,
      "outputs": [
        {
          "output_type": "stream",
          "name": "stdout",
          "text": [
            "313/313 [==============================] - 1s 4ms/step - loss: 0.1127 - accuracy: 0.9787\n",
            "Test accuracy: 0.9786999821662903\n"
          ]
        },
        {
          "output_type": "stream",
          "name": "stderr",
          "text": [
            "/usr/local/lib/python3.10/dist-packages/keras/src/engine/training.py:3103: UserWarning: You are saving your model as an HDF5 file via `model.save()`. This file format is considered legacy. We recommend using instead the native Keras format, e.g. `model.save('my_model.keras')`.\n",
            "  saving_api.save_model(\n"
          ]
        }
      ]
    },
    {
      "cell_type": "markdown",
      "source": [
        "Question 4:"
      ],
      "metadata": {
        "id": "3KLAG4I7Cu0s"
      }
    },
    {
      "cell_type": "code",
      "source": [
        "!pip install --upgrade tensorflow"
      ],
      "metadata": {
        "colab": {
          "base_uri": "https://localhost:8080/"
        },
        "id": "37bnMRmrEJMw",
        "outputId": "477f1365-59c3-4756-8802-a10ac398a59c"
      },
      "execution_count": 21,
      "outputs": [
        {
          "output_type": "stream",
          "name": "stdout",
          "text": [
            "\u001b[33mWARNING: Ignoring invalid distribution -ensorflow (/usr/local/lib/python3.10/dist-packages)\u001b[0m\u001b[33m\n",
            "\u001b[0mRequirement already satisfied: tensorflow in /usr/local/lib/python3.10/dist-packages (2.15.0.post1)\n",
            "Requirement already satisfied: absl-py>=1.0.0 in /usr/local/lib/python3.10/dist-packages (from tensorflow) (1.4.0)\n",
            "Requirement already satisfied: astunparse>=1.6.0 in /usr/local/lib/python3.10/dist-packages (from tensorflow) (1.6.3)\n",
            "Requirement already satisfied: flatbuffers>=23.5.26 in /usr/local/lib/python3.10/dist-packages (from tensorflow) (23.5.26)\n",
            "Requirement already satisfied: gast!=0.5.0,!=0.5.1,!=0.5.2,>=0.2.1 in /usr/local/lib/python3.10/dist-packages (from tensorflow) (0.5.4)\n",
            "Requirement already satisfied: google-pasta>=0.1.1 in /usr/local/lib/python3.10/dist-packages (from tensorflow) (0.2.0)\n",
            "Requirement already satisfied: h5py>=2.9.0 in /usr/local/lib/python3.10/dist-packages (from tensorflow) (3.9.0)\n",
            "Requirement already satisfied: libclang>=13.0.0 in /usr/local/lib/python3.10/dist-packages (from tensorflow) (16.0.6)\n",
            "Requirement already satisfied: ml-dtypes~=0.2.0 in /usr/local/lib/python3.10/dist-packages (from tensorflow) (0.2.0)\n",
            "Requirement already satisfied: numpy<2.0.0,>=1.23.5 in /usr/local/lib/python3.10/dist-packages (from tensorflow) (1.23.5)\n",
            "Requirement already satisfied: opt-einsum>=2.3.2 in /usr/local/lib/python3.10/dist-packages (from tensorflow) (3.3.0)\n",
            "Requirement already satisfied: packaging in /usr/local/lib/python3.10/dist-packages (from tensorflow) (23.2)\n",
            "Requirement already satisfied: protobuf!=4.21.0,!=4.21.1,!=4.21.2,!=4.21.3,!=4.21.4,!=4.21.5,<5.0.0dev,>=3.20.3 in /usr/local/lib/python3.10/dist-packages (from tensorflow) (3.20.3)\n",
            "Requirement already satisfied: setuptools in /usr/local/lib/python3.10/dist-packages (from tensorflow) (67.7.2)\n",
            "Requirement already satisfied: six>=1.12.0 in /usr/local/lib/python3.10/dist-packages (from tensorflow) (1.16.0)\n",
            "Requirement already satisfied: termcolor>=1.1.0 in /usr/local/lib/python3.10/dist-packages (from tensorflow) (2.4.0)\n",
            "Requirement already satisfied: typing-extensions>=3.6.6 in /usr/local/lib/python3.10/dist-packages (from tensorflow) (4.5.0)\n",
            "Requirement already satisfied: wrapt<1.15,>=1.11.0 in /usr/local/lib/python3.10/dist-packages (from tensorflow) (1.14.1)\n",
            "Requirement already satisfied: tensorflow-io-gcs-filesystem>=0.23.1 in /usr/local/lib/python3.10/dist-packages (from tensorflow) (0.34.0)\n",
            "Requirement already satisfied: grpcio<2.0,>=1.24.3 in /usr/local/lib/python3.10/dist-packages (from tensorflow) (1.60.0)\n",
            "Requirement already satisfied: tensorboard<2.16,>=2.15 in /usr/local/lib/python3.10/dist-packages (from tensorflow) (2.15.1)\n",
            "Requirement already satisfied: tensorflow-estimator<2.16,>=2.15.0 in /usr/local/lib/python3.10/dist-packages (from tensorflow) (2.15.0)\n",
            "Requirement already satisfied: keras<2.16,>=2.15.0 in /usr/local/lib/python3.10/dist-packages (from tensorflow) (2.15.0)\n",
            "Requirement already satisfied: wheel<1.0,>=0.23.0 in /usr/local/lib/python3.10/dist-packages (from astunparse>=1.6.0->tensorflow) (0.42.0)\n",
            "Requirement already satisfied: google-auth<3,>=1.6.3 in /usr/local/lib/python3.10/dist-packages (from tensorboard<2.16,>=2.15->tensorflow) (2.17.3)\n",
            "Requirement already satisfied: google-auth-oauthlib<2,>=0.5 in /usr/local/lib/python3.10/dist-packages (from tensorboard<2.16,>=2.15->tensorflow) (1.2.0)\n",
            "Requirement already satisfied: markdown>=2.6.8 in /usr/local/lib/python3.10/dist-packages (from tensorboard<2.16,>=2.15->tensorflow) (3.5.1)\n",
            "Requirement already satisfied: requests<3,>=2.21.0 in /usr/local/lib/python3.10/dist-packages (from tensorboard<2.16,>=2.15->tensorflow) (2.31.0)\n",
            "Requirement already satisfied: tensorboard-data-server<0.8.0,>=0.7.0 in /usr/local/lib/python3.10/dist-packages (from tensorboard<2.16,>=2.15->tensorflow) (0.7.2)\n",
            "Requirement already satisfied: werkzeug>=1.0.1 in /usr/local/lib/python3.10/dist-packages (from tensorboard<2.16,>=2.15->tensorflow) (3.0.1)\n",
            "Requirement already satisfied: cachetools<6.0,>=2.0.0 in /usr/local/lib/python3.10/dist-packages (from google-auth<3,>=1.6.3->tensorboard<2.16,>=2.15->tensorflow) (5.3.2)\n",
            "Requirement already satisfied: pyasn1-modules>=0.2.1 in /usr/local/lib/python3.10/dist-packages (from google-auth<3,>=1.6.3->tensorboard<2.16,>=2.15->tensorflow) (0.3.0)\n",
            "Requirement already satisfied: rsa<5,>=3.1.4 in /usr/local/lib/python3.10/dist-packages (from google-auth<3,>=1.6.3->tensorboard<2.16,>=2.15->tensorflow) (4.9)\n",
            "Requirement already satisfied: requests-oauthlib>=0.7.0 in /usr/local/lib/python3.10/dist-packages (from google-auth-oauthlib<2,>=0.5->tensorboard<2.16,>=2.15->tensorflow) (1.3.1)\n",
            "Requirement already satisfied: charset-normalizer<4,>=2 in /usr/local/lib/python3.10/dist-packages (from requests<3,>=2.21.0->tensorboard<2.16,>=2.15->tensorflow) (3.3.2)\n",
            "Requirement already satisfied: idna<4,>=2.5 in /usr/local/lib/python3.10/dist-packages (from requests<3,>=2.21.0->tensorboard<2.16,>=2.15->tensorflow) (3.6)\n",
            "Requirement already satisfied: urllib3<3,>=1.21.1 in /usr/local/lib/python3.10/dist-packages (from requests<3,>=2.21.0->tensorboard<2.16,>=2.15->tensorflow) (2.0.7)\n",
            "Requirement already satisfied: certifi>=2017.4.17 in /usr/local/lib/python3.10/dist-packages (from requests<3,>=2.21.0->tensorboard<2.16,>=2.15->tensorflow) (2023.11.17)\n",
            "Requirement already satisfied: MarkupSafe>=2.1.1 in /usr/local/lib/python3.10/dist-packages (from werkzeug>=1.0.1->tensorboard<2.16,>=2.15->tensorflow) (2.1.3)\n",
            "Requirement already satisfied: pyasn1<0.6.0,>=0.4.6 in /usr/local/lib/python3.10/dist-packages (from pyasn1-modules>=0.2.1->google-auth<3,>=1.6.3->tensorboard<2.16,>=2.15->tensorflow) (0.5.1)\n",
            "Requirement already satisfied: oauthlib>=3.0.0 in /usr/local/lib/python3.10/dist-packages (from requests-oauthlib>=0.7.0->google-auth-oauthlib<2,>=0.5->tensorboard<2.16,>=2.15->tensorflow) (3.2.2)\n",
            "\u001b[33mWARNING: Ignoring invalid distribution -ensorflow (/usr/local/lib/python3.10/dist-packages)\u001b[0m\u001b[33m\n",
            "\u001b[0m"
          ]
        }
      ]
    },
    {
      "cell_type": "code",
      "source": [
        "import numpy as np\n",
        "from sklearn.datasets import fetch_california_housing\n",
        "from sklearn.model_selection import train_test_split\n",
        "from sklearn.preprocessing import StandardScaler\n",
        "from sklearn.linear_model import LinearRegression\n",
        "from sklearn.metrics import mean_absolute_error, mean_squared_error\n",
        "\n",
        "# Load California housing dataset\n",
        "data = fetch_california_housing()\n",
        "x, y = data.data, data.target\n",
        "\n",
        "# Split the data into training and testing sets\n",
        "x_train, x_test, y_train, y_test = train_test_split(x, y, test_size=0.2, random_state=42)\n",
        "\n",
        "# Standardize the features using StandardScaler\n",
        "scaler = StandardScaler()\n",
        "x_train = scaler.fit_transform(x_train)\n",
        "x_test = scaler.transform(x_test)\n",
        "print(X_train.shape, X_test.shape, Y_train.shape, Y_test.shape)"
      ],
      "metadata": {
        "colab": {
          "base_uri": "https://localhost:8080/"
        },
        "id": "qLH_UT-UCxtF",
        "outputId": "a8535c33-bef2-4a0f-d252-9c6a082bdc39"
      },
      "execution_count": 23,
      "outputs": [
        {
          "output_type": "stream",
          "name": "stdout",
          "text": [
            "(60000, 28, 28) (10000, 28, 28) (60000,) (10000,)\n"
          ]
        }
      ]
    },
    {
      "cell_type": "code",
      "source": [
        "# Define the model\n",
        "model = models.Sequential([\n",
        "    layers.InputLayer(input_shape=(8,)),\n",
        "    layers.Dense(128, activation='relu'),\n",
        "    layers.Dense(64, activation='relu'),\n",
        "    layers.Dense(1)\n",
        "])\n",
        "\n",
        "# Compile the model\n",
        "model.compile(optimizer='adam', loss='mean_squared_error', metrics=['mae'])\n",
        "# Train the model\n",
        "model.fit(x_train, y_train, epochs=10, validation_split=0.2)"
      ],
      "metadata": {
        "colab": {
          "base_uri": "https://localhost:8080/"
        },
        "id": "D1fZnqVzEp-9",
        "outputId": "af77ad0d-620f-41c1-c27c-a9a08bd1fb40"
      },
      "execution_count": 25,
      "outputs": [
        {
          "output_type": "stream",
          "name": "stdout",
          "text": [
            "Epoch 1/10\n",
            "413/413 [==============================] - 3s 3ms/step - loss: 0.6916 - mae: 0.5721 - val_loss: 0.4626 - val_mae: 0.4792\n",
            "Epoch 2/10\n",
            "413/413 [==============================] - 1s 3ms/step - loss: 0.4056 - mae: 0.4423 - val_loss: 0.4241 - val_mae: 0.4796\n",
            "Epoch 3/10\n",
            "413/413 [==============================] - 1s 4ms/step - loss: 0.3581 - mae: 0.4238 - val_loss: 0.4138 - val_mae: 0.4811\n",
            "Epoch 4/10\n",
            "413/413 [==============================] - 2s 4ms/step - loss: 0.3474 - mae: 0.4168 - val_loss: 0.3789 - val_mae: 0.4316\n",
            "Epoch 5/10\n",
            "413/413 [==============================] - 1s 3ms/step - loss: 0.3327 - mae: 0.4051 - val_loss: 0.3653 - val_mae: 0.4121\n",
            "Epoch 6/10\n",
            "413/413 [==============================] - 1s 3ms/step - loss: 0.3319 - mae: 0.4008 - val_loss: 0.3409 - val_mae: 0.4184\n",
            "Epoch 7/10\n",
            "413/413 [==============================] - 1s 3ms/step - loss: 0.3190 - mae: 0.3922 - val_loss: 0.3373 - val_mae: 0.4068\n",
            "Epoch 8/10\n",
            "413/413 [==============================] - 1s 3ms/step - loss: 0.3107 - mae: 0.3866 - val_loss: 0.3324 - val_mae: 0.3997\n",
            "Epoch 9/10\n",
            "413/413 [==============================] - 1s 3ms/step - loss: 0.3034 - mae: 0.3828 - val_loss: 0.3163 - val_mae: 0.3871\n",
            "Epoch 10/10\n",
            "413/413 [==============================] - 1s 3ms/step - loss: 0.2971 - mae: 0.3773 - val_loss: 0.3236 - val_mae: 0.3972\n"
          ]
        },
        {
          "output_type": "execute_result",
          "data": {
            "text/plain": [
              "<keras.src.callbacks.History at 0x7fd866e7ea40>"
            ]
          },
          "metadata": {},
          "execution_count": 25
        }
      ]
    },
    {
      "cell_type": "code",
      "source": [
        "# Evaluate the model on the test set\n",
        "test_loss, test_mae = model.evaluate(x_test, y_test)\n",
        "\n",
        "# Print the test mean absolute error\n",
        "print(f'Test Mean Absolute Error: {test_mae}')\n",
        "\n",
        "# Save the model if it meets the specified criteria\n",
        "predictions = model.predict(x_test)\n",
        "within_tolerance = sum(abs(predictions.flatten() - y_test) <= 0.15 * y_test) / len(y_test)\n",
        "if within_tolerance > 0.85:\n",
        "    model.save('california_housing_model.h5')\n",
        "    print('Model saved successfully.')\n",
        "else:\n",
        "    print('Model does not meet the criteria for saving.')"
      ],
      "metadata": {
        "colab": {
          "base_uri": "https://localhost:8080/"
        },
        "id": "t72mDMcmGY8p",
        "outputId": "152307ad-108a-4df2-fdf9-9e3e521c63ad"
      },
      "execution_count": 27,
      "outputs": [
        {
          "output_type": "stream",
          "name": "stdout",
          "text": [
            "129/129 [==============================] - 0s 2ms/step - loss: 0.3088 - mae: 0.3904\n",
            "Test Mean Absolute Error: 0.3903948664665222\n",
            "129/129 [==============================] - 0s 2ms/step\n",
            "Model does not meet the criteria for saving.\n"
          ]
        }
      ]
    }
  ]
}